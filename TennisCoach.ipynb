{
  "nbformat": 4,
  "nbformat_minor": 0,
  "metadata": {
    "colab": {
      "provenance": [],
      "gpuType": "T4"
    },
    "kernelspec": {
      "name": "python3",
      "display_name": "Python 3"
    },
    "language_info": {
      "name": "python"
    },
    "accelerator": "GPU"
  },
  "cells": [
    {
      "cell_type": "markdown",
      "source": [
        "# **Performing Pose Estimation using AlphaPose**"
      ],
      "metadata": {
        "id": "tP0b07J1TS8v"
      }
    },
    {
      "cell_type": "markdown",
      "source": [
        "Clone repository:"
      ],
      "metadata": {
        "id": "HpTQ6gf2jCAi"
      }
    },
    {
      "cell_type": "code",
      "source": [
        "!git clone https://github.com/christinathr2000/TennisCoach.git"
      ],
      "metadata": {
        "id": "8I9AbNXuQYqJ"
      },
      "execution_count": null,
      "outputs": []
    },
    {
      "cell_type": "markdown",
      "source": [
        "Install requirements:"
      ],
      "metadata": {
        "id": "vI_8-FThjJ04"
      }
    },
    {
      "cell_type": "code",
      "source": [
        "cd TennisCoach/AlphaPose"
      ],
      "metadata": {
        "id": "LIKa3O9CidHY"
      },
      "execution_count": null,
      "outputs": []
    },
    {
      "cell_type": "code",
      "source": [
        "!pip install -r requirements.txt"
      ],
      "metadata": {
        "id": "aWGEI6Zbie3e"
      },
      "execution_count": null,
      "outputs": []
    },
    {
      "cell_type": "markdown",
      "source": [
        "Checks if GPU is available:"
      ],
      "metadata": {
        "id": "5lcp67wLjLTC"
      }
    },
    {
      "cell_type": "code",
      "source": [
        "import torch\n",
        "print(torch.cuda.is_available())"
      ],
      "metadata": {
        "id": "5YhfiWJuQYcP"
      },
      "execution_count": null,
      "outputs": []
    },
    {
      "cell_type": "markdown",
      "source": [
        "Downloads used SPPE and YOLO detector and stores in correct folder:"
      ],
      "metadata": {
        "id": "3Ah027tgjQ5-"
      }
    },
    {
      "cell_type": "code",
      "source": [
        "cd models/sppe"
      ],
      "metadata": {
        "id": "Co5aFt5NikJC"
      },
      "execution_count": null,
      "outputs": []
    },
    {
      "cell_type": "code",
      "source": [
        "!gdown --id 1OPORTWB2cwd5YTVBX-NE8fsauZJWsrtW"
      ],
      "metadata": {
        "id": "6P_Qf48OiurH"
      },
      "execution_count": null,
      "outputs": []
    },
    {
      "cell_type": "code",
      "source": [
        "cd ../yolo"
      ],
      "metadata": {
        "id": "o66oIkTQivGI"
      },
      "execution_count": null,
      "outputs": []
    },
    {
      "cell_type": "code",
      "source": [
        "!gdown --id 1D47msNOOiJKvPOXlnpyzdKA3k6E97NTC"
      ],
      "metadata": {
        "id": "P6RTZWwPiyFC"
      },
      "execution_count": null,
      "outputs": []
    },
    {
      "cell_type": "markdown",
      "source": [
        "Pose Estimation is performed with example video 'video001.mp4':"
      ],
      "metadata": {
        "id": "h80WAP7XjavY"
      }
    },
    {
      "cell_type": "code",
      "source": [
        "cd /content/TennisCoach/AlphaPose"
      ],
      "metadata": {
        "id": "3oc4uUS3iz4T"
      },
      "execution_count": null,
      "outputs": []
    },
    {
      "cell_type": "code",
      "source": [
        "!python video_demo.py --video input/video001.mp4 --outdir output --save_video --sp --vis_fast"
      ],
      "metadata": {
        "id": "t85ObNzqi1sP"
      },
      "execution_count": null,
      "outputs": []
    }
  ]
}